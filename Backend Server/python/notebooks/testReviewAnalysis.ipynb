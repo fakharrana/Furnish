{
 "cells": [
  {
   "cell_type": "code",
   "execution_count": 1,
   "metadata": {},
   "outputs": [],
   "source": [
    "import pickle\n",
    "from keras.models import load_model\n",
    "from keras.preprocessing import sequence\n",
    "from keras.utils.vis_utils import plot_model"
   ]
  },
  {
   "cell_type": "code",
   "execution_count": 2,
   "metadata": {},
   "outputs": [],
   "source": [
    "# Loading Review Analysis Model\n",
    "Review_Analysis_Model = load_model(\"../models/review_analysis_model.h5\")\n",
    "\n",
    "# Loading Tokenizer\n",
    "with open('../models/tokenizer.pickle', 'rb') as fileObject:\n",
    "    tokenizer = pickle.load(fileObject)"
   ]
  },
  {
   "cell_type": "code",
   "execution_count": 3,
   "metadata": {},
   "outputs": [],
   "source": [
    "#plot_model(Review_Analysis_Model, to_file='Architecture.png', show_shapes=True, show_layer_names=True)"
   ]
  },
  {
   "cell_type": "code",
   "execution_count": 4,
   "metadata": {},
   "outputs": [],
   "source": [
    "#Method for cleaning data\n",
    "def cleanText(raw_text):\n",
    "    letters_only = \" \"\n",
    "    for char in str(raw_text):\n",
    "      if char.isalpha() or char==\" \": #Only letters\n",
    "        letters_only += char\n",
    "    words = letters_only.lower().split() # convert to lower case \n",
    "    return( \" \".join(words))"
   ]
  },
  {
   "cell_type": "code",
   "execution_count": 5,
   "metadata": {},
   "outputs": [
    {
     "name": "stdout",
     "output_type": "stream",
     "text": [
      "['i like this product']\n",
      "Positive Review [[0.00180837 0.99819165]]\n"
     ]
    }
   ],
   "source": [
    "review = \"i like this product\"\n",
    "cleaned_review = [cleanText(review)]\n",
    "print(cleaned_review)\n",
    "#Creating Sequences\n",
    "sequence_cleaned_review = tokenizer.texts_to_sequences(cleaned_review)\n",
    "\n",
    "#Padding Sequences\n",
    "padded_cleaned_review = sequence.pad_sequences(sequence_cleaned_review, maxlen=200)\n",
    "\n",
    "\n",
    "prediction = Review_Analysis_Model.predict(padded_cleaned_review)\n",
    "\n",
    "if prediction[0][0]>prediction[0][1]:\n",
    "  print(\"Negative Review\", prediction)\n",
    "else:\n",
    "  print(\"Positive Review\", prediction)\n",
    "\n"
   ]
  }
 ],
 "metadata": {
  "interpreter": {
   "hash": "ee5cc6fef2d70a7e71ee3826687cbd150f18158e0b1eef11d4f4f92bb920e304"
  },
  "kernelspec": {
   "display_name": "Python 3.9.5 64-bit",
   "name": "python3"
  },
  "language_info": {
   "codemirror_mode": {
    "name": "ipython",
    "version": 3
   },
   "file_extension": ".py",
   "mimetype": "text/x-python",
   "name": "python",
   "nbconvert_exporter": "python",
   "pygments_lexer": "ipython3",
   "version": "3.9.5"
  },
  "orig_nbformat": 4
 },
 "nbformat": 4,
 "nbformat_minor": 2
}
