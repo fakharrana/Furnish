{
 "cells": [
  {
   "cell_type": "code",
   "execution_count": null,
   "metadata": {},
   "outputs": [],
   "source": [
    "from apyori import apriori\n",
    "import pymongo"
   ]
  },
  {
   "cell_type": "code",
   "execution_count": null,
   "metadata": {},
   "outputs": [],
   "source": [
    "\n",
    "# Database Connection\n",
    "Connection = pymongo.MongoClient('mongodb://localhost:27017/')\n",
    "Database = Connection[\"Furnish\"]\n",
    "Collection = Database[\"orders\"]\n"
   ]
  },
  {
   "cell_type": "code",
   "execution_count": null,
   "metadata": {},
   "outputs": [],
   "source": [
    "Transactions = []\n",
    "rulesDictionary = {}\n",
    "\n",
    "\n",
    "# Function to get transactions/orders\n",
    "def getTransactions():\n",
    "    for Document in Collection.find({}, {\"_id\": 0, \"products\": 1}):\n",
    "        Transaction = []\n",
    "        for index in range(len(Document[\"products\"])):\n",
    "            Transaction.append(Document[\"products\"][index][\"productName\"])\n",
    "        Transactions.append(Transaction)"
   ]
  },
  {
   "cell_type": "code",
   "execution_count": null,
   "metadata": {},
   "outputs": [],
   "source": [
    "# Function to get filtered recommendation list\n",
    "def recommendations(product, productList):\n",
    "    return [element for element in productList if element != product]\n",
    "\n",
    "\n",
    "# Function to get rules in dictionary form\n",
    "def getRulesDictionary():\n",
    "    for item in associationRules:\n",
    "        rule = item[0]\n",
    "        if len(rule) > 1:\n",
    "            products = [x for x in rule]\n",
    "\n",
    "            for index in range(len(products)):\n",
    "                rulesDictionary[str(products[index])] = recommendations(\n",
    "                    products[index], products)"
   ]
  },
  {
   "cell_type": "code",
   "execution_count": null,
   "metadata": {},
   "outputs": [],
   "source": [
    "getTransactions()\n",
    "\n",
    "# Applying Apriori Algorithm\n",
    "associationRules = apriori(\n",
    "    Transactions, min_support=0.02, min_confidence=0.50)\n",
    "\n",
    "getRulesDictionary()\n",
    "print(rulesDictionary)"
   ]
  }
 ],
 "metadata": {
  "interpreter": {
   "hash": "ee5cc6fef2d70a7e71ee3826687cbd150f18158e0b1eef11d4f4f92bb920e304"
  },
  "kernelspec": {
   "display_name": "Python 3.9.5 64-bit",
   "name": "python3"
  },
  "language_info": {
   "codemirror_mode": {
    "name": "ipython",
    "version": 3
   },
   "file_extension": ".py",
   "mimetype": "text/x-python",
   "name": "python",
   "nbconvert_exporter": "python",
   "pygments_lexer": "ipython3",
   "version": "3.9.5"
  },
  "orig_nbformat": 4
 },
 "nbformat": 4,
 "nbformat_minor": 2
}
